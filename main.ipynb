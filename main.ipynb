{
 "cells": [
  {
   "cell_type": "markdown",
   "id": "2b0451e8",
   "metadata": {},
   "source": [
    "**Unit 2 | Homework Assignment: Automate Your Day Job with Python**\n",
    "\n",
    "A python script has been created to analyse the financial records for a company, the data has been provided\n",
    "in a csv file which has been imported. Python programming has been used to analyse the data and provide the below\n",
    "outputs:\n",
    "\n",
    "- The total number of months included in the dataset.\n",
    "- The net total amount of Profit/Losses over the entire period.\n",
    "- The average of the changes in Profit/Losses over the entire period.\n",
    "- The greatest increase in profits (date and amount) over the entire period.\n",
    "- The greatest decrease in losses (date and amount) over the entire period."
   ]
  },
  {
   "cell_type": "code",
   "execution_count": 1,
   "id": "072f9bd9",
   "metadata": {},
   "outputs": [],
   "source": [
    "#Code to import file\n",
    "from pathlib import Path\n",
    "import csv"
   ]
  },
  {
   "cell_type": "code",
   "execution_count": 2,
   "id": "4b60caff",
   "metadata": {},
   "outputs": [],
   "source": [
    "#File path\n",
    "csvpath = Path('C:/Users/simon/OneDrive/Desktop/Fintech/Weekly Classes/Week 2/Homework_Week 2_Instructions_PyBank_Resources_budget_data.csv')"
   ]
  },
  {
   "cell_type": "code",
   "execution_count": 3,
   "id": "bfd2e9c6",
   "metadata": {},
   "outputs": [
    {
     "name": "stdout",
     "output_type": "stream",
     "text": [
      "This is the imported csv file displaying the financial performance for a business:\n",
      "['Date', 'Profit/Losses']\n",
      "['Jan-2010', '867884']\n",
      "['Feb-2010', '984655']\n",
      "['Mar-2010', '322013']\n",
      "['Apr-2010', '-69417']\n",
      "['May-2010', '310503']\n",
      "['Jun-2010', '522857']\n",
      "['Jul-2010', '1033096']\n",
      "['Aug-2010', '604885']\n",
      "['Sep-2010', '-216386']\n",
      "['Oct-2010', '477532']\n",
      "['Nov-2010', '893810']\n",
      "['Dec-2010', '-80353']\n",
      "['Jan-2011', '779806']\n",
      "['Feb-2011', '-335203']\n",
      "['Mar-2011', '697845']\n",
      "['Apr-2011', '793163']\n",
      "['May-2011', '485070']\n",
      "['Jun-2011', '584122']\n",
      "['Jul-2011', '62729']\n",
      "['Aug-2011', '668179']\n",
      "['Sep-2011', '899906']\n",
      "['Oct-2011', '834719']\n",
      "['Nov-2011', '132003']\n",
      "['Dec-2011', '309978']\n",
      "['Jan-2012', '-755566']\n",
      "['Feb-2012', '1170593']\n",
      "['Mar-2012', '252788']\n",
      "['Apr-2012', '1151518']\n",
      "['May-2012', '817256']\n",
      "['Jun-2012', '570757']\n",
      "['Jul-2012', '506702']\n",
      "['Aug-2012', '-1022534']\n",
      "['Sep-2012', '475062']\n",
      "['Oct-2012', '779976']\n",
      "['Nov-2012', '144175']\n",
      "['Dec-2012', '542494']\n",
      "['Jan-2013', '359333']\n",
      "['Feb-2013', '321469']\n",
      "['Mar-2013', '67780']\n",
      "['Apr-2013', '471435']\n",
      "['May-2013', '565603']\n",
      "['Jun-2013', '872480']\n",
      "['Jul-2013', '789480']\n",
      "['Aug-2013', '999942']\n",
      "['Sep-2013', '-1196225']\n",
      "['Oct-2013', '268997']\n",
      "['Nov-2013', '-687986']\n",
      "['Dec-2013', '1150461']\n",
      "['Jan-2014', '682458']\n",
      "['Feb-2014', '617856']\n",
      "['Mar-2014', '824098']\n",
      "['Apr-2014', '581943']\n",
      "['May-2014', '132864']\n",
      "['Jun-2014', '448062']\n",
      "['Jul-2014', '689161']\n",
      "['Aug-2014', '800701']\n",
      "['Sep-2014', '1166643']\n",
      "['Oct-2014', '947333']\n",
      "['Nov-2014', '578668']\n",
      "['Dec-2014', '988505']\n",
      "['Jan-2015', '1139715']\n",
      "['Feb-2015', '1029471']\n",
      "['Mar-2015', '687533']\n",
      "['Apr-2015', '-524626']\n",
      "['May-2015', '158620']\n",
      "['Jun-2015', '87795']\n",
      "['Jul-2015', '423389']\n",
      "['Aug-2015', '840723']\n",
      "['Sep-2015', '568529']\n",
      "['Oct-2015', '332067']\n",
      "['Nov-2015', '989499']\n",
      "['Dec-2015', '778237']\n",
      "['Jan-2016', '650000']\n",
      "['Feb-2016', '-1100387']\n",
      "['Mar-2016', '-174946']\n",
      "['Apr-2016', '757143']\n",
      "['May-2016', '445709']\n",
      "['Jun-2016', '712961']\n",
      "['Jul-2016', '-1163797']\n",
      "['Aug-2016', '569899']\n",
      "['Sep-2016', '768450']\n",
      "['Oct-2016', '102685']\n",
      "['Nov-2016', '795914']\n",
      "['Dec-2016', '60988']\n",
      "['Jan-2017', '138230']\n",
      "['Feb-2017', '671099']\n"
     ]
    }
   ],
   "source": [
    "# Variables:\n",
    "line_num = 0\n",
    "total = 0\n",
    "# Lists:\n",
    "profits = []\n",
    "monthly_changes = []\n",
    "\n",
    "#NB monthly_changes (plural) denotes a list of all the changes by month, monthly_change (singular) denotes the change for a single month.\n",
    "#NB profits (plural) denotes a list of all the profits (or losses) by month, profit (singlar) denotes the profit (or loss) for a single month.\n",
    "\n",
    "#Coding to print the csv file in this document\n",
    "print(f\"This is the imported csv file displaying the financial performance for a business:\")\n",
    "with open(csvpath, 'r') as csvfile:\n",
    "    csvreader = csv.reader(csvfile,delimiter=',')\n",
    "    csv_header = next(csvreader)\n",
    "    print(csv_header)\n",
    "#Creating the list (profits) which will contain on the profits (or losses) for each month\n",
    "    for line in csvreader:\n",
    "        print(line)\n",
    "        line_num += 1\n",
    "        profit = int(line[1])\n",
    "        profits.append(profit)"
   ]
  },
  {
   "cell_type": "code",
   "execution_count": 4,
   "id": "0e0a665d",
   "metadata": {},
   "outputs": [
    {
     "name": "stdout",
     "output_type": "stream",
     "text": [
      "The total number of months with financial data is:\n",
      "86 months\n"
     ]
    }
   ],
   "source": [
    "#Code to determine the total number of months\n",
    "print(f\"The total number of months with financial data is:\")\n",
    "print(f\"{line_num} months\")"
   ]
  },
  {
   "cell_type": "code",
   "execution_count": 5,
   "id": "b2fdc4ab",
   "metadata": {},
   "outputs": [
    {
     "name": "stdout",
     "output_type": "stream",
     "text": [
      "Below is a summary of all the profit/losses by month in a list:\n",
      "[867884, 984655, 322013, -69417, 310503, 522857, 1033096, 604885, -216386, 477532, 893810, -80353, 779806, -335203, 697845, 793163, 485070, 584122, 62729, 668179, 899906, 834719, 132003, 309978, -755566, 1170593, 252788, 1151518, 817256, 570757, 506702, -1022534, 475062, 779976, 144175, 542494, 359333, 321469, 67780, 471435, 565603, 872480, 789480, 999942, -1196225, 268997, -687986, 1150461, 682458, 617856, 824098, 581943, 132864, 448062, 689161, 800701, 1166643, 947333, 578668, 988505, 1139715, 1029471, 687533, -524626, 158620, 87795, 423389, 840723, 568529, 332067, 989499, 778237, 650000, -1100387, -174946, 757143, 445709, 712961, -1163797, 569899, 768450, 102685, 795914, 60988, 138230, 671099]\n"
     ]
    }
   ],
   "source": [
    "#Code to display the list \"profits\", which contains the profits (or losses) for each month\n",
    "print(f\"Below is a summary of all the profit/losses by month in a list:\")\n",
    "print(profits)"
   ]
  },
  {
   "cell_type": "code",
   "execution_count": 6,
   "id": "1de4734c",
   "metadata": {},
   "outputs": [
    {
     "name": "stdout",
     "output_type": "stream",
     "text": [
      "The net total amount of profit/losses over the past 86 months was:\n",
      "$38382578\n"
     ]
    }
   ],
   "source": [
    "#Code to determine the total amount of profit/losses over the past 86 months\n",
    "print(f\"The net total amount of profit/losses over the past 86 months was:\")\n",
    "for x in profits:\n",
    "    total += x\n",
    "print(f\"${total}\")"
   ]
  },
  {
   "cell_type": "code",
   "execution_count": 7,
   "id": "3c0155b7",
   "metadata": {},
   "outputs": [
    {
     "name": "stdout",
     "output_type": "stream",
     "text": [
      "This a list with all the calculated month by month change in profits:\n",
      "[116771, -662642, -391430, 379920, 212354, 510239, -428211, -821271, 693918, 416278, -974163, 860159, -1115009, 1033048, 95318, -308093, 99052, -521393, 605450, 231727, -65187, -702716, 177975, -1065544, 1926159, -917805, 898730, -334262, -246499, -64055, -1529236, 1497596, 304914, -635801, 398319, -183161, -37864, -253689, 403655, 94168, 306877, -83000, 210462, -2196167, 1465222, -956983, 1838447, -468003, -64602, 206242, -242155, -449079, 315198, 241099, 111540, 365942, -219310, -368665, 409837, 151210, -110244, -341938, -1212159, 683246, -70825, 335594, 417334, -272194, -236462, 657432, -211262, -128237, -1750387, 925441, 932089, -311434, 267252, -1876758, 1733696, 198551, -665765, 693229, -734926, 77242, 532869]\n"
     ]
    }
   ],
   "source": [
    "#Code to determine the month by month change in profit (or losses) and place the values into the list (monthly_changes) \n",
    "print(f\"This a list with all the calculated month by month change in profits:\")\n",
    "\n",
    "for index in range(1,len(profits)):\n",
    "    monthly_change = profits[index] - profits[index-1]\n",
    "    monthly_changes.append(monthly_change)\n",
    "print(monthly_changes)"
   ]
  },
  {
   "cell_type": "code",
   "execution_count": 8,
   "id": "6f3d809b",
   "metadata": {},
   "outputs": [
    {
     "name": "stdout",
     "output_type": "stream",
     "text": [
      "The total cumulative monthly change in profit/loss was:\n",
      "$-196785\n"
     ]
    }
   ],
   "source": [
    "#Code to determine the cumulative monthly change in profit (or loss)\n",
    "print(f\"The total cumulative monthly change in profit/loss was:\")\n",
    "sum = 0\n",
    "for y in monthly_changes:\n",
    "    sum += y\n",
    "print(f\"${sum}\")"
   ]
  },
  {
   "cell_type": "code",
   "execution_count": 9,
   "id": "22768c01",
   "metadata": {},
   "outputs": [
    {
     "name": "stdout",
     "output_type": "stream",
     "text": [
      "The average monthly change over the past 86 months was:\n",
      "$-2315.1176470588234\n"
     ]
    }
   ],
   "source": [
    "#Code to determine the average monthly change over the past 86 months\n",
    "print(f\"The average monthly change over the past 86 months was:\")\n",
    "average_monthly_change = sum / len(monthly_changes)\n",
    "print(f\"${average_monthly_change}\")"
   ]
  },
  {
   "cell_type": "code",
   "execution_count": 10,
   "id": "cf5083de",
   "metadata": {},
   "outputs": [
    {
     "name": "stdout",
     "output_type": "stream",
     "text": [
      "The greatest *increase* in profits was:\n",
      "$1926159\n",
      "The greatest *decrease* in profits was:\n",
      "$-2196167\n"
     ]
    }
   ],
   "source": [
    "#Code to determine the greatest decrease and increase in profits\n",
    "\n",
    "profit_increase_largest = 0\n",
    "profit_decrease_largest = 0\n",
    "\n",
    "for x in monthly_changes:\n",
    "    if x == 0:\n",
    "        profit_decrease_largest = x\n",
    "    elif x < profit_decrease_largest:\n",
    "        profit_decrease_largest = x\n",
    "    elif x > profit_increase_largest:\n",
    "        profit_increase_largest = x \n",
    "print(f\"The greatest *increase* in profits was:\")        \n",
    "print(f\"${profit_increase_largest}\")\n",
    "print(f\"The greatest *decrease* in profits was:\")   \n",
    "print(f\"${profit_decrease_largest}\")"
   ]
  },
  {
   "cell_type": "code",
   "execution_count": 11,
   "id": "c4374860",
   "metadata": {},
   "outputs": [
    {
     "name": "stdout",
     "output_type": "stream",
     "text": [
      "This is the position where the greatest *increase* in profit is located in the monthly_changes list:\n",
      "24\n",
      "This is the position where the greatest *decrease* in profit is located in the monthly_changes list:\n",
      "43\n",
      "The month/year with greatest *increase* in profit was\n",
      "Feb-2012\n",
      "The month/year with greatest *decrease* in profit was\n",
      "Sep-2013\n"
     ]
    }
   ],
   "source": [
    "print(f\"This is the position where the greatest *increase* in profit is located in the monthly_changes list:\")\n",
    "index = monthly_changes.index(1926159)\n",
    "print(index)\n",
    "\n",
    "print(f\"This is the position where the greatest *decrease* in profit is located in the monthly_changes list:\")\n",
    "index = monthly_changes.index(-2196167)\n",
    "print(index)\n",
    "\n",
    "#Code to determine which month and year had the greatest decrease and increase in profits\n",
    "\n",
    "with open(csvpath, 'r') as csvfile:\n",
    "    csvreader = csv.reader(csvfile,delimiter=',')\n",
    "    csv_header = next(csvreader)\n",
    "    for i,x in enumerate(csvreader):\n",
    "        # 1 must be added to \"index\" output as monthly change is calculated after the first month,\n",
    "        # i.e. index of 24 becomes 25 \n",
    "        if i == 25:\n",
    "            print(f\"The month/year with greatest *increase* in profit was\")\n",
    "            print(x[0])\n",
    "            month_profit_increase_largest = x[0]\n",
    "        \n",
    "with open(csvpath, 'r') as csvfile:\n",
    "    csvreader = csv.reader(csvfile,delimiter=',')\n",
    "    csv_header = next(csvreader)\n",
    "    for i,z in enumerate(csvreader):\n",
    "        # 1 must be added to \"index\" output as monthly change is calculated after the first month,\n",
    "        # i.e. index of 43 becomes 44 \n",
    "        if i == 44:\n",
    "            print(f\"The month/year with greatest *decrease* in profit was\")\n",
    "            print(z[0])\n",
    "            month_profit_decrease_largest = z[0]"
   ]
  },
  {
   "cell_type": "code",
   "execution_count": 12,
   "id": "b456a501",
   "metadata": {},
   "outputs": [
    {
     "name": "stdout",
     "output_type": "stream",
     "text": [
      "Finanacial Analysis\n",
      "--------------------------\n",
      "Total Months: 86 months\n",
      "Total: $38382578\n",
      "Average Change: $-2315.12\n",
      "Greatest Increase in Profits: Feb-2012 ($1926159)\n",
      "Greatest Decrease in Profits: Sep-2013 ($-2196167)\n"
     ]
    }
   ],
   "source": [
    "print(\"Finanacial Analysis\")\n",
    "print(\"--------------------------\")\n",
    "print(f\"Total Months: {line_num} months\")\n",
    "print(f\"Total: ${total}\")\n",
    "print(f\"Average Change: ${round(average_monthly_change, 2)}\")\n",
    "print(f\"Greatest Increase in Profits: {month_profit_increase_largest} (${profit_increase_largest})\")\n",
    "print(f\"Greatest Decrease in Profits: {month_profit_decrease_largest} (${profit_decrease_largest})\")"
   ]
  }
 ],
 "metadata": {
  "kernelspec": {
   "display_name": "Python 3",
   "language": "python",
   "name": "python3"
  },
  "language_info": {
   "codemirror_mode": {
    "name": "ipython",
    "version": 3
   },
   "file_extension": ".py",
   "mimetype": "text/x-python",
   "name": "python",
   "nbconvert_exporter": "python",
   "pygments_lexer": "ipython3",
   "version": "3.8.5"
  }
 },
 "nbformat": 4,
 "nbformat_minor": 5
}
